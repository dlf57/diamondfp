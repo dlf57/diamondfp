{
 "cells": [
  {
   "cell_type": "markdown",
   "id": "c64015f4",
   "metadata": {},
   "source": [
    "# Player Fingerprint Similarity Analysis\n",
    "\n",
    "This notebook builds binary (or quantized) fingerprints for baseball players based on their career statistics, then computes pairwise similarity scores between all players. The goal is to identify players with statistically similar profiles using the Tanimoto/Jaccard coefficient."
   ]
  },
  {
   "cell_type": "code",
   "execution_count": 1,
   "id": "35c7017b",
   "metadata": {},
   "outputs": [],
   "source": [
    "import pandas as pd\n",
    "import numpy as np\n",
    "import csv\n",
    "from diamondfp.fingerprints import binaryfp\n",
    "from diamondfp.utils.features import generate_quantiles\n",
    "from diamondfp.scoring import tanimoto"
   ]
  },
  {
   "cell_type": "markdown",
   "id": "3860144e",
   "metadata": {},
   "source": [
    "## Preparing the Data\n",
    "\n",
    "We load player career batting data, then define statistical features of interest with percentile cutoffs. These percentiles act as thresholds for converting continuous stats (like batting average, OBP, etc.) into binary fingerprints. Each player’s fingerprint is a binary vector indicating which statistical thresholds they meet."
   ]
  },
  {
   "cell_type": "code",
   "execution_count": 2,
   "id": "6222f30f",
   "metadata": {},
   "outputs": [],
   "source": [
    "df = pd.read_csv(\"../data/career-batting.csv\")\n",
    "\n",
    "stat_features = {\n",
    "    \"H\": [0.5, 0.75, 0.9, 0.95],\n",
    "    \"2B\": [0.75, 0.95],\n",
    "    \"3B\": [0.75, 0.95],\n",
    "    \"HR\": [0.9, 0.99],\n",
    "    \"K%\": [0.1, 0.25],\n",
    "    \"BB%\": [0.75, 0.99],\n",
    "    \"AVG\": [0.5, 0.75, 0.9, 0.95],\n",
    "    \"OBP\": [0.5, 0.75, 0.9, 0.95],\n",
    "    \"SLG\": [0.5, 0.75, 0.9, 0.95],\n",
    "    \"OPS\": [0.5, 0.75, 0.9, 0.95],\n",
    "}\n",
    "\n",
    "feat_quants = generate_quantiles(df, stat_features)\n",
    "df['Fingerprint'] = df.apply(lambda x: binaryfp(x, feat_quants), axis=1)"
   ]
  },
  {
   "cell_type": "markdown",
   "id": "d4f66f98",
   "metadata": {},
   "source": [
    "## Converting Fingerprints to Arrays\n",
    "\n",
    "We convert the fingerprints into a NumPy array for efficient vectorized computation. Using float32 (bool/uint8 for binary data would be more efficient but I want this to be general for fingerprints that are not binary) minimizes memory usage while keeping the operations fast."
   ]
  },
  {
   "cell_type": "code",
   "execution_count": null,
   "id": "1e0afab2",
   "metadata": {},
   "outputs": [],
   "source": [
    "fp = np.array(df[\"Fingerprint\"].tolist(), dtype=np.float32)  \n",
    "pkeys = df[\"playerID\"].to_numpy()\n",
    "players = df[\"Name\"].to_numpy()\n",
    "player_data = list(zip(players, pkeys, fp))\n",
    "n = len(fp)"
   ]
  },
  {
   "cell_type": "markdown",
   "id": "65166e95",
   "metadata": {},
   "source": [
    "## Computing Pairwise Similarities\n",
    "\n",
    "We compute pairwise Tanimoto similarity for all player pairs.\n",
    "\n",
    "$$\n",
    "T(v_1, v_2) = \\frac{|v_1 \\cap v_2|}{|v_1 \\cup v_2|}\n",
    "$$\n",
    "\n",
    "\n",
    "To stay memory-safe with ~18k players, we avoid building an entire n × n matrix. Instead, we compute similarities row-by-row, only keeping results above a similarity threshold (0.75 here)."
   ]
  },
  {
   "cell_type": "code",
   "execution_count": null,
   "id": "de3f8a61",
   "metadata": {},
   "outputs": [],
   "source": [
    "import itertools\n",
    "\n",
    "with open(\"../data/mlb-similarities.csv\", \"w\", newline=\"\") as csvfile:\n",
    "    fieldnames = [\"Player 1\", \"Player 2\", \"PKey 1\", \"PKey 2\", \"Similarity\"]\n",
    "    writer = csv.DictWriter(csvfile, fieldnames=fieldnames)\n",
    "    writer.writeheader()\n",
    "\n",
    "    # Iterate over all unique player pairs\n",
    "    for (player1, pkey1, fp1), (player2, pkey2, fp2) in itertools.combinations(\n",
    "        player_data, 2\n",
    "    ):\n",
    "        sim = tanimoto(fp1, fp2)\n",
    "        if sim > 0.75:\n",
    "            writer.writerow(\n",
    "                {\n",
    "                    \"Player 1\": player1,\n",
    "                    \"Player 2\": player2,\n",
    "                    \"PKey 1\": pkey1,\n",
    "                    \"PKey 2\": pkey2,\n",
    "                    \"Similarity\": sim,\n",
    "                }\n",
    "            )\n"
   ]
  },
  {
   "cell_type": "markdown",
   "id": "7b734149",
   "metadata": {},
   "source": [
    "## Querying Similar Players\n",
    "\n",
    "Once we have a similarity table, we need a fast way to query it."
   ]
  },
  {
   "cell_type": "code",
   "execution_count": 5,
   "id": "d9942e5a",
   "metadata": {},
   "outputs": [],
   "source": [
    "def find_similar(df, player_name, tophits=10):\n",
    "    # Select only relevant rows (no .copy() → avoids extra memory)\n",
    "    mask1 = df[\"Player 1\"] == player_name\n",
    "    mask2 = df[\"Player 2\"] == player_name\n",
    "\n",
    "    # Build results directly without modifying a DataFrame\n",
    "    players = np.where(mask1, df[\"Player 2\"], df[\"Player 1\"])\n",
    "    sims = df[\"Similarity\"]\n",
    "\n",
    "    # Only keep rows where player_name was in either column\n",
    "    valid = mask1 | mask2\n",
    "    players = players[valid]\n",
    "    sims = sims[valid]\n",
    "\n",
    "    # Turn into DataFrame once (minimal allocations)\n",
    "    result = pd.DataFrame({\"Similar Player\": players, \"Similarity\": sims})\n",
    "\n",
    "    return result.nlargest(tophits, \"Similarity\").reset_index(drop=True)"
   ]
  },
  {
   "cell_type": "markdown",
   "id": "f71b3ce5",
   "metadata": {},
   "source": [
    "Example Query\n",
    "\n",
    "We can now explore the most similar players to a given player, e.g., Bryce Harper:"
   ]
  },
  {
   "cell_type": "code",
   "execution_count": 6,
   "id": "f40bfb89",
   "metadata": {},
   "outputs": [
    {
     "data": {
      "text/html": [
       "<div>\n",
       "<style scoped>\n",
       "    .dataframe tbody tr th:only-of-type {\n",
       "        vertical-align: middle;\n",
       "    }\n",
       "\n",
       "    .dataframe tbody tr th {\n",
       "        vertical-align: top;\n",
       "    }\n",
       "\n",
       "    .dataframe thead th {\n",
       "        text-align: right;\n",
       "    }\n",
       "</style>\n",
       "<table border=\"1\" class=\"dataframe\">\n",
       "  <thead>\n",
       "    <tr style=\"text-align: right;\">\n",
       "      <th></th>\n",
       "      <th>Similar Player</th>\n",
       "      <th>Similarity</th>\n",
       "    </tr>\n",
       "  </thead>\n",
       "  <tbody>\n",
       "    <tr>\n",
       "      <th>0</th>\n",
       "      <td>Albert Belle</td>\n",
       "      <td>1.0</td>\n",
       "    </tr>\n",
       "    <tr>\n",
       "      <th>1</th>\n",
       "      <td>Jeromy Burnitz</td>\n",
       "      <td>1.0</td>\n",
       "    </tr>\n",
       "    <tr>\n",
       "      <th>2</th>\n",
       "      <td>Jose Canseco</td>\n",
       "      <td>1.0</td>\n",
       "    </tr>\n",
       "    <tr>\n",
       "      <th>3</th>\n",
       "      <td>Rocky Colavito</td>\n",
       "      <td>1.0</td>\n",
       "    </tr>\n",
       "    <tr>\n",
       "      <th>4</th>\n",
       "      <td>Nelson Cruz</td>\n",
       "      <td>1.0</td>\n",
       "    </tr>\n",
       "    <tr>\n",
       "      <th>5</th>\n",
       "      <td>Carlos Delgado</td>\n",
       "      <td>1.0</td>\n",
       "    </tr>\n",
       "    <tr>\n",
       "      <th>6</th>\n",
       "      <td>Jim Edmonds</td>\n",
       "      <td>1.0</td>\n",
       "    </tr>\n",
       "    <tr>\n",
       "      <th>7</th>\n",
       "      <td>Edwin Encarnacion</td>\n",
       "      <td>1.0</td>\n",
       "    </tr>\n",
       "    <tr>\n",
       "      <th>8</th>\n",
       "      <td>Prince Fielder</td>\n",
       "      <td>1.0</td>\n",
       "    </tr>\n",
       "    <tr>\n",
       "      <th>9</th>\n",
       "      <td>Jason Giambi</td>\n",
       "      <td>1.0</td>\n",
       "    </tr>\n",
       "  </tbody>\n",
       "</table>\n",
       "</div>"
      ],
      "text/plain": [
       "      Similar Player  Similarity\n",
       "0       Albert Belle         1.0\n",
       "1     Jeromy Burnitz         1.0\n",
       "2       Jose Canseco         1.0\n",
       "3     Rocky Colavito         1.0\n",
       "4        Nelson Cruz         1.0\n",
       "5     Carlos Delgado         1.0\n",
       "6        Jim Edmonds         1.0\n",
       "7  Edwin Encarnacion         1.0\n",
       "8     Prince Fielder         1.0\n",
       "9       Jason Giambi         1.0"
      ]
     },
     "execution_count": 6,
     "metadata": {},
     "output_type": "execute_result"
    }
   ],
   "source": [
    "df_sim = pd.read_csv(\"../data/mlb-similarities.csv\")\n",
    "find_similar(df_sim, \"Bryce Harper\")"
   ]
  }
 ],
 "metadata": {
  "kernelspec": {
   "display_name": "diamondfp",
   "language": "python",
   "name": "python3"
  },
  "language_info": {
   "codemirror_mode": {
    "name": "ipython",
    "version": 3
   },
   "file_extension": ".py",
   "mimetype": "text/x-python",
   "name": "python",
   "nbconvert_exporter": "python",
   "pygments_lexer": "ipython3",
   "version": "3.13.5"
  }
 },
 "nbformat": 4,
 "nbformat_minor": 5
}
