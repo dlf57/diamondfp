{
 "cells": [
  {
   "cell_type": "markdown",
   "id": "511395ba",
   "metadata": {},
   "source": [
    "# What Molecule matches Shohei Ohtani's 2024 Season?!\n",
    "\n",
    "Let's use `diamondfp` to create a fingeprint of Shohei Ohtani's incredible 2024 season and compare it to molecules in the [ChEMBL](https://www.ebi.ac.uk/chembl/) chemical database!\n",
    "\n",
    "Steps:\n",
    "- Install [RDKit](https://www.rdkit.org/) for the chemistry bits later\n",
    "- Get your [Baseball Savant](https://baseballsavant.mlb.com/) data for the 2024 season\n",
    "- Generate your feature quantiles and the fingerprint representation for Shohei Ohtani\n",
    "- Create fingerprints for ChEMBL molecules\n",
    "- Run a similarity search and determine which molecule closest matches Shohei Ohtaini\n",
    "\n",
    "For the full write up, please checkout [my website](https://dlf57.github.io/projects/molbaseball/). "
   ]
  },
  {
   "cell_type": "code",
   "execution_count": null,
   "id": "84c72ead",
   "metadata": {},
   "outputs": [
    {
     "name": "stdout",
     "output_type": "stream",
     "text": [
      "%pylab is deprecated, use %matplotlib inline and import the required libraries.\n",
      "Populating the interactive namespace from numpy and matplotlib\n"
     ]
    }
   ],
   "source": [
    "import pandas as pd\n",
    "from diamondfp.fingerprints import binaryfp\n",
    "from diamondfp.utils.features import generate_quantiles\n",
    "from diamondfp.scoring import tanimoto\n",
    "# RDKit imports for handling molecules\n",
    "from rdkit import Chem\n",
    "from rdkit.Chem import rdFingerprintGenerator\n",
    "from rdkit.Chem.Draw import IPythonConsole\n",
    "%pylab inline"
   ]
  },
  {
   "cell_type": "markdown",
   "id": "9d5ca52e",
   "metadata": {},
   "source": [
    "## diamondfp Processing Workflow\n",
    "\n",
    "From Baseball Savant the desired fingerprint stats were preselected. Once read in to Python, the feature quantiles were generated. The number of stats and quantiles were selected to make a 256 bit vector to best compare to molecules. (Traditionally 2048 is the molecular fingerprint size of choice but for this activity we are going to shrink to 256)"
   ]
  },
  {
   "cell_type": "code",
   "execution_count": null,
   "id": "bb0fbad6",
   "metadata": {},
   "outputs": [],
   "source": [
    "# read in 2024 player data\n",
    "df = pd.read_csv(\"../data/2024fp_256bit.csv\")\n",
    "\n",
    "# create name column from last_name, first_name\n",
    "def make_name(row):\n",
    "    last_name, first_name = row[\"last_name, first_name\"].split(\", \")\n",
    "    return f\"{first_name} {last_name}\"\n",
    "\n",
    "df['name'] = df.apply(lambda x: make_name(x), axis=1)\n",
    "\n",
    "# generate quantiles for stats\n",
    "stat_list = list(df.columns)[3:-1]\n",
    "quant_list = [0.125, 0.25, 0.375, 0.5, 0.625, 0.75, 0.875, 0.99]\n",
    "stat_features = {stat: quant_list for stat in stat_list}\n",
    "feat_quants = generate_quantiles(df, stat_features)\n",
    "\n",
    "# generate fingerprint for Shohei Ohtani\n",
    "shohei_ohtani = binaryfp(df[df[\"name\"] == \"Shohei Ohtani\"].squeeze(), feat_quants)"
   ]
  },
  {
   "cell_type": "markdown",
   "id": "cfbf4579",
   "metadata": {},
   "source": [
    "## Processing Molecules\n",
    "\n",
    "ChEMBL stores the roughly 2.5 million SMILES strings in a tab separated file. We will read these in and use the RDKitFP generator to create a 256 bit vector fingerprint of the molecules. Other fingerprints like Morgan Fingerprints could also be used. \n",
    "\n",
    "I recommend lowering the path length and only using a subset of the ChEMBL dataset as this will take a very long time."
   ]
  },
  {
   "cell_type": "code",
   "execution_count": null,
   "id": "f8e34430",
   "metadata": {},
   "outputs": [],
   "source": [
    "df_chem = pd.read_csv(\"../data/chembl_35_chemreps.txt\", sep=\"\\t\")\n",
    "\n",
    "fps = []\n",
    "for i in range(len(df_chem)):\n",
    "    try:\n",
    "        smiles = df_chem['canonical_smiles'].iloc[i]\n",
    "        chembl_id = df_chem['chembl_id'].iloc[i]\n",
    "        mol = Chem.MolFromSmiles(smiles)\n",
    "        rdfgen = rdFingerprintGenerator.GetRDKitFPGenerator(fpSize=256)\n",
    "        fp = rdfgen.GetFingerprint(mol)\n",
    "        d = {}\n",
    "        d.update({'ChEMBL ID': chembl_id})\n",
    "        d.update({'SMILES': smiles})\n",
    "        d.update({'fingerprint': fp})\n",
    "        fps.append(d)\n",
    "    except:\n",
    "        pass\n"
   ]
  },
  {
   "cell_type": "markdown",
   "id": "01d4c051",
   "metadata": {},
   "source": [
    "## Scoring\n",
    "\n",
    "Now that we have all of the fingerprints from ChEMBL made, we can compare them to Shohei Ohtani to generate a Tanimoto Score. We can then sort by the dataframe by score and see which molecule has the fingerprint closest to Shohei Ohtani's 2024 season."
   ]
  },
  {
   "cell_type": "code",
   "execution_count": 4,
   "id": "3ab3d156",
   "metadata": {},
   "outputs": [],
   "source": [
    "results = []\n",
    "\n",
    "for i in range(len(fps)):\n",
    "    chembl_id = fps[i]['ChEMBL ID']\n",
    "    score = tanimoto(shohei_ohtani, fps[i]['fingerprint'])\n",
    "    d = {}\n",
    "    d.update({'ChEMBL ID': chembl_id})\n",
    "    d.update({'SMILES': fps[i]['SMILES']})\n",
    "    d.update({'Score': score})\n",
    "    results.append(d)"
   ]
  },
  {
   "cell_type": "code",
   "execution_count": 5,
   "id": "45e9bbb9",
   "metadata": {},
   "outputs": [
    {
     "data": {
      "text/html": [
       "<div>\n",
       "<style scoped>\n",
       "    .dataframe tbody tr th:only-of-type {\n",
       "        vertical-align: middle;\n",
       "    }\n",
       "\n",
       "    .dataframe tbody tr th {\n",
       "        vertical-align: top;\n",
       "    }\n",
       "\n",
       "    .dataframe thead th {\n",
       "        text-align: right;\n",
       "    }\n",
       "</style>\n",
       "<table border=\"1\" class=\"dataframe\">\n",
       "  <thead>\n",
       "    <tr style=\"text-align: right;\">\n",
       "      <th></th>\n",
       "      <th>ChEMBL ID</th>\n",
       "      <th>SMILES</th>\n",
       "      <th>Score</th>\n",
       "    </tr>\n",
       "  </thead>\n",
       "  <tbody>\n",
       "    <tr>\n",
       "      <th>1270559</th>\n",
       "      <td>CHEMBL5489980</td>\n",
       "      <td>CN(C)c1ccc(NC(=O)CCc2nc(Cc3ccccc3)no2)cn1</td>\n",
       "      <td>0.798387</td>\n",
       "    </tr>\n",
       "    <tr>\n",
       "      <th>572227</th>\n",
       "      <td>CHEMBL543342</td>\n",
       "      <td>Cl.O=C(O)C1=CCCN(CCOCCN2c3ccccc3CCc3ccccc32)C1</td>\n",
       "      <td>0.795181</td>\n",
       "    </tr>\n",
       "    <tr>\n",
       "      <th>2296225</th>\n",
       "      <td>CHEMBL3923723</td>\n",
       "      <td>COCCC(=O)N1[C@H](C)CNc2ccccc2[C@@H]1C</td>\n",
       "      <td>0.795181</td>\n",
       "    </tr>\n",
       "    <tr>\n",
       "      <th>852252</th>\n",
       "      <td>CHEMBL1192156</td>\n",
       "      <td>O=C(O)C1=CCCN(CCOCCN2c3ccccc3CCc3ccccc32)C1</td>\n",
       "      <td>0.795181</td>\n",
       "    </tr>\n",
       "    <tr>\n",
       "      <th>2052737</th>\n",
       "      <td>CHEMBL3458430</td>\n",
       "      <td>O=C(CS(=O)(=O)Cc1nnnn1C1CC1)NCCc1ccccc1</td>\n",
       "      <td>0.793522</td>\n",
       "    </tr>\n",
       "    <tr>\n",
       "      <th>923889</th>\n",
       "      <td>CHEMBL397829</td>\n",
       "      <td>O=C(O)C(O)(Cc1cccnc1)P(=O)(O)O</td>\n",
       "      <td>0.792683</td>\n",
       "    </tr>\n",
       "    <tr>\n",
       "      <th>1191146</th>\n",
       "      <td>CHEMBL1395909</td>\n",
       "      <td>CCOc1ncccc1C(=O)OCC(=O)Nc1ccc2c(c1)CCC2</td>\n",
       "      <td>0.792000</td>\n",
       "    </tr>\n",
       "    <tr>\n",
       "      <th>2060991</th>\n",
       "      <td>CHEMBL3477461</td>\n",
       "      <td>CCC(=O)N1CCN(C(=O)Nc2cccc(F)c2)[C@H]2CS(=O)(=O...</td>\n",
       "      <td>0.792000</td>\n",
       "    </tr>\n",
       "    <tr>\n",
       "      <th>1731411</th>\n",
       "      <td>CHEMBL2005900</td>\n",
       "      <td>CCc1cccc(C)c1NC(=O)C(=O)CC(=O)c1ccc(Cl)s1</td>\n",
       "      <td>0.792000</td>\n",
       "    </tr>\n",
       "    <tr>\n",
       "      <th>712471</th>\n",
       "      <td>CHEMBL4754559</td>\n",
       "      <td>COC[C@H](NC(=O)[C@H](CC(=O)NOC(C)(C)C)NC(=O)CC...</td>\n",
       "      <td>0.792000</td>\n",
       "    </tr>\n",
       "  </tbody>\n",
       "</table>\n",
       "</div>"
      ],
      "text/plain": [
       "             ChEMBL ID                                             SMILES  \\\n",
       "1270559  CHEMBL5489980          CN(C)c1ccc(NC(=O)CCc2nc(Cc3ccccc3)no2)cn1   \n",
       "572227    CHEMBL543342     Cl.O=C(O)C1=CCCN(CCOCCN2c3ccccc3CCc3ccccc32)C1   \n",
       "2296225  CHEMBL3923723              COCCC(=O)N1[C@H](C)CNc2ccccc2[C@@H]1C   \n",
       "852252   CHEMBL1192156        O=C(O)C1=CCCN(CCOCCN2c3ccccc3CCc3ccccc32)C1   \n",
       "2052737  CHEMBL3458430            O=C(CS(=O)(=O)Cc1nnnn1C1CC1)NCCc1ccccc1   \n",
       "923889    CHEMBL397829                     O=C(O)C(O)(Cc1cccnc1)P(=O)(O)O   \n",
       "1191146  CHEMBL1395909            CCOc1ncccc1C(=O)OCC(=O)Nc1ccc2c(c1)CCC2   \n",
       "2060991  CHEMBL3477461  CCC(=O)N1CCN(C(=O)Nc2cccc(F)c2)[C@H]2CS(=O)(=O...   \n",
       "1731411  CHEMBL2005900          CCc1cccc(C)c1NC(=O)C(=O)CC(=O)c1ccc(Cl)s1   \n",
       "712471   CHEMBL4754559  COC[C@H](NC(=O)[C@H](CC(=O)NOC(C)(C)C)NC(=O)CC...   \n",
       "\n",
       "            Score  \n",
       "1270559  0.798387  \n",
       "572227   0.795181  \n",
       "2296225  0.795181  \n",
       "852252   0.795181  \n",
       "2052737  0.793522  \n",
       "923889   0.792683  \n",
       "1191146  0.792000  \n",
       "2060991  0.792000  \n",
       "1731411  0.792000  \n",
       "712471   0.792000  "
      ]
     },
     "execution_count": 5,
     "metadata": {},
     "output_type": "execute_result"
    }
   ],
   "source": [
    "df_results = pd.DataFrame(results)\n",
    "df_results = df_results.sort_values(by='Score', ascending=False)\n",
    "df_results.head(10)"
   ]
  },
  {
   "cell_type": "code",
   "execution_count": 6,
   "id": "3e1b338d",
   "metadata": {},
   "outputs": [
    {
     "data": {
      "image/png": "[encoded data removed]",
      "text/plain": [
       "<rdkit.Chem.rdchem.Mol at 0x7f34b08c5230>"
      ]
     },
     "execution_count": 6,
     "metadata": {},
     "output_type": "execute_result"
    }
   ],
   "source": [
    "mol = Chem.MolFromSmiles(df_results['SMILES'].iloc[0])\n",
    "mol"
   ]
  },
  {
   "cell_type": "code",
   "execution_count": 9,
   "id": "42b407a8",
   "metadata": {},
   "outputs": [
    {
     "name": "stdout",
     "output_type": "stream",
     "text": [
      "Collecting py3Dmol\n",
      "  Downloading py3dmol-2.5.2-py2.py3-none-any.whl.metadata (2.1 kB)\n",
      "Downloading py3dmol-2.5.2-py2.py3-none-any.whl (7.2 kB)\n",
      "Installing collected packages: py3Dmol\n",
      "Successfully installed py3Dmol-2.5.2\n"
     ]
    }
   ],
   "source": [
    "!pip install py3Dmol"
   ]
  },
  {
   "cell_type": "code",
   "execution_count": 15,
   "id": "928d04f0",
   "metadata": {},
   "outputs": [
    {
     "data": {
      "application/3dmoljs_load.v0": "<div id=\"3dmolviewer_1756232210568994\"  style=\"position: relative; width: 640px; height: 480px;\">\n        <p id=\"3dmolwarning_1756232210568994\" style=\"background-color:#ffcccc;color:black\">3Dmol.js failed to load for some reason.  Please check your browser console for error messages.<br></p>\n        </div>\n<script>\n\nvar loadScriptAsync = function(uri){\n  return new Promise((resolve, reject) => {\n    //this is to ignore the existence of requirejs amd\n    var savedexports, savedmodule;\n    if (typeof exports !== 'undefined') savedexports = exports;\n    else exports = {}\n    if (typeof module !== 'undefined') savedmodule = module;\n    else module = {}\n\n    var tag = document.createElement('script');\n    tag.src = uri;\n    tag.async = true;\n    tag.onload = () => {\n        exports = savedexports;\n        module = savedmodule;\n        resolve();\n    };\n  var firstScriptTag = document.getElementsByTagName('script')[0];\n  firstScriptTag.parentNode.insertBefore(tag, firstScriptTag);\n});\n};\n\nif(typeof $3Dmolpromise === 'undefined') {\n$3Dmolpromise = null;\n  $3Dmolpromise = loadScriptAsync('https://cdn.jsdelivr.net/npm/3dmol@2.5.2/build/3Dmol-min.js');\n}\n\nvar viewer_1756232210568994 = null;\nvar warn = document.getElementById(\"3dmolwarning_1756232210568994\");\nif(warn) {\n    warn.parentNode.removeChild(warn);\n}\n$3Dmolpromise.then(function() {\nviewer_1756232210568994 = $3Dmol.createViewer(document.getElementById(\"3dmolviewer_1756232210568994\"),{backgroundColor:\"white\"});\nviewer_1756232210568994.zoomTo();\n\tviewer_1756232210568994.addModel(\"\\n     RDKit          2D\\n\\n 26 28  0  0  0  0  0  0  0  0999 V2000\\n    3.7500   -1.2990    0.0000 C   0  0  0  0  0  0  0  0  0  0  0  0\\n    3.0000    0.0000    0.0000 N   0  0  0  0  0  0  0  0  0  0  0  0\\n    3.7500    1.2990    0.0000 C   0  0  0  0  0  0  0  0  0  0  0  0\\n    1.5000    0.0000    0.0000 C   0  0  0  0  0  0  0  0  0  0  0  0\\n    0.7500   -1.2990    0.0000 C   0  0  0  0  0  0  0  0  0  0  0  0\\n   -0.7500   -1.2990    0.0000 C   0  0  0  0  0  0  0  0  0  0  0  0\\n   -1.5000    0.0000    0.0000 C   0  0  0  0  0  0  0  0  0  0  0  0\\n   -3.0000    0.0000    0.0000 N   0  0  0  0  0  0  0  0  0  0  0  0\\n   -3.7500    1.2990    0.0000 C   0  0  0  0  0  0  0  0  0  0  0  0\\n   -3.0000    2.5981    0.0000 O   0  0  0  0  0  0  0  0  0  0  0  0\\n   -5.2500    1.2990    0.0000 C   0  0  0  0  0  0  0  0  0  0  0  0\\n   -6.0000    2.5981    0.0000 C   0  0  0  0  0  0  0  0  0  0  0  0\\n   -7.5000    2.5981    0.0000 C   0  0  0  0  0  0  0  0  0  0  0  0\\n   -8.3817    1.3846    0.0000 N   0  0  0  0  0  0  0  0  0  0  0  0\\n   -9.8083    1.8481    0.0000 C   0  0  0  0  0  0  0  0  0  0  0  0\\n  -11.0218    0.9664    0.0000 C   0  0  0  0  0  0  0  0  0  0  0  0\\n  -12.3921    1.5765    0.0000 C   0  0  0  0  0  0  0  0  0  0  0  0\\n  -12.5489    3.0683    0.0000 C   0  0  0  0  0  0  0  0  0  0  0  0\\n  -13.9192    3.6784    0.0000 C   0  0  0  0  0  0  0  0  0  0  0  0\\n  -15.1327    2.7967    0.0000 C   0  0  0  0  0  0  0  0  0  0  0  0\\n  -14.9760    1.3049    0.0000 C   0  0  0  0  0  0  0  0  0  0  0  0\\n  -13.6056    0.6948    0.0000 C   0  0  0  0  0  0  0  0  0  0  0  0\\n   -9.8083    3.3481    0.0000 N   0  0  0  0  0  0  0  0  0  0  0  0\\n   -8.3817    3.8116    0.0000 O   0  0  0  0  0  0  0  0  0  0  0  0\\n   -0.7500    1.2990    0.0000 C   0  0  0  0  0  0  0  0  0  0  0  0\\n    0.7500    1.2990    0.0000 N   0  0  0  0  0  0  0  0  0  0  0  0\\n  1  2  1  0\\n  2  3  1  0\\n  2  4  1  0\\n  4  5  2  0\\n  5  6  1  0\\n  6  7  2  0\\n  7  8  1  0\\n  8  9  1  0\\n  9 10  2  0\\n  9 11  1  0\\n 11 12  1  0\\n 12 13  1  0\\n 13 14  2  0\\n 14 15  1  0\\n 15 16  1  0\\n 16 17  1  0\\n 17 18  2  0\\n 18 19  1  0\\n 19 20  2  0\\n 20 21  1  0\\n 21 22  2  0\\n 15 23  2  0\\n 23 24  1  0\\n  7 25  1  0\\n 25 26  2  0\\n 26  4  1  0\\n 24 13  1  0\\n 22 17  1  0\\nM  END\\n\",\"sdf\");\n\tviewer_1756232210568994.setStyle({\"stick\": {}});\n\tviewer_1756232210568994.zoomTo();\nviewer_1756232210568994.render();\n});\n</script>",
      "text/html": [
       "<div id=\"3dmolviewer_1756232210568994\"  style=\"position: relative; width: 640px; height: 480px;\">\n",
       "        <p id=\"3dmolwarning_1756232210568994\" style=\"background-color:#ffcccc;color:black\">3Dmol.js failed to load for some reason.  Please check your browser console for error messages.<br></p>\n",
       "        </div>\n",
       "<script>\n",
       "\n",
       "var loadScriptAsync = function(uri){\n",
       "  return new Promise((resolve, reject) => {\n",
       "    //this is to ignore the existence of requirejs amd\n",
       "    var savedexports, savedmodule;\n",
       "    if (typeof exports !== 'undefined') savedexports = exports;\n",
       "    else exports = {}\n",
       "    if (typeof module !== 'undefined') savedmodule = module;\n",
       "    else module = {}\n",
       "\n",
       "    var tag = document.createElement('script');\n",
       "    tag.src = uri;\n",
       "    tag.async = true;\n",
       "    tag.onload = () => {\n",
       "        exports = savedexports;\n",
       "        module = savedmodule;\n",
       "        resolve();\n",
       "    };\n",
       "  var firstScriptTag = document.getElementsByTagName('script')[0];\n",
       "  firstScriptTag.parentNode.insertBefore(tag, firstScriptTag);\n",
       "});\n",
       "};\n",
       "\n",
       "if(typeof $3Dmolpromise === 'undefined') {\n",
       "$3Dmolpromise = null;\n",
       "  $3Dmolpromise = loadScriptAsync('https://cdn.jsdelivr.net/npm/3dmol@2.5.2/build/3Dmol-min.js');\n",
       "}\n",
       "\n",
       "var viewer_1756232210568994 = null;\n",
       "var warn = document.getElementById(\"3dmolwarning_1756232210568994\");\n",
       "if(warn) {\n",
       "    warn.parentNode.removeChild(warn);\n",
       "}\n",
       "$3Dmolpromise.then(function() {\n",
       "viewer_1756232210568994 = $3Dmol.createViewer(document.getElementById(\"3dmolviewer_1756232210568994\"),{backgroundColor:\"white\"});\n",
       "viewer_1756232210568994.zoomTo();\n",
       "\tviewer_1756232210568994.addModel(\"\\n     RDKit          2D\\n\\n 26 28  0  0  0  0  0  0  0  0999 V2000\\n    3.7500   -1.2990    0.0000 C   0  0  0  0  0  0  0  0  0  0  0  0\\n    3.0000    0.0000    0.0000 N   0  0  0  0  0  0  0  0  0  0  0  0\\n    3.7500    1.2990    0.0000 C   0  0  0  0  0  0  0  0  0  0  0  0\\n    1.5000    0.0000    0.0000 C   0  0  0  0  0  0  0  0  0  0  0  0\\n    0.7500   -1.2990    0.0000 C   0  0  0  0  0  0  0  0  0  0  0  0\\n   -0.7500   -1.2990    0.0000 C   0  0  0  0  0  0  0  0  0  0  0  0\\n   -1.5000    0.0000    0.0000 C   0  0  0  0  0  0  0  0  0  0  0  0\\n   -3.0000    0.0000    0.0000 N   0  0  0  0  0  0  0  0  0  0  0  0\\n   -3.7500    1.2990    0.0000 C   0  0  0  0  0  0  0  0  0  0  0  0\\n   -3.0000    2.5981    0.0000 O   0  0  0  0  0  0  0  0  0  0  0  0\\n   -5.2500    1.2990    0.0000 C   0  0  0  0  0  0  0  0  0  0  0  0\\n   -6.0000    2.5981    0.0000 C   0  0  0  0  0  0  0  0  0  0  0  0\\n   -7.5000    2.5981    0.0000 C   0  0  0  0  0  0  0  0  0  0  0  0\\n   -8.3817    1.3846    0.0000 N   0  0  0  0  0  0  0  0  0  0  0  0\\n   -9.8083    1.8481    0.0000 C   0  0  0  0  0  0  0  0  0  0  0  0\\n  -11.0218    0.9664    0.0000 C   0  0  0  0  0  0  0  0  0  0  0  0\\n  -12.3921    1.5765    0.0000 C   0  0  0  0  0  0  0  0  0  0  0  0\\n  -12.5489    3.0683    0.0000 C   0  0  0  0  0  0  0  0  0  0  0  0\\n  -13.9192    3.6784    0.0000 C   0  0  0  0  0  0  0  0  0  0  0  0\\n  -15.1327    2.7967    0.0000 C   0  0  0  0  0  0  0  0  0  0  0  0\\n  -14.9760    1.3049    0.0000 C   0  0  0  0  0  0  0  0  0  0  0  0\\n  -13.6056    0.6948    0.0000 C   0  0  0  0  0  0  0  0  0  0  0  0\\n   -9.8083    3.3481    0.0000 N   0  0  0  0  0  0  0  0  0  0  0  0\\n   -8.3817    3.8116    0.0000 O   0  0  0  0  0  0  0  0  0  0  0  0\\n   -0.7500    1.2990    0.0000 C   0  0  0  0  0  0  0  0  0  0  0  0\\n    0.7500    1.2990    0.0000 N   0  0  0  0  0  0  0  0  0  0  0  0\\n  1  2  1  0\\n  2  3  1  0\\n  2  4  1  0\\n  4  5  2  0\\n  5  6  1  0\\n  6  7  2  0\\n  7  8  1  0\\n  8  9  1  0\\n  9 10  2  0\\n  9 11  1  0\\n 11 12  1  0\\n 12 13  1  0\\n 13 14  2  0\\n 14 15  1  0\\n 15 16  1  0\\n 16 17  1  0\\n 17 18  2  0\\n 18 19  1  0\\n 19 20  2  0\\n 20 21  1  0\\n 21 22  2  0\\n 15 23  2  0\\n 23 24  1  0\\n  7 25  1  0\\n 25 26  2  0\\n 26  4  1  0\\n 24 13  1  0\\n 22 17  1  0\\nM  END\\n\",\"sdf\");\n",
       "\tviewer_1756232210568994.setStyle({\"stick\": {}});\n",
       "\tviewer_1756232210568994.zoomTo();\n",
       "viewer_1756232210568994.render();\n",
       "});\n",
       "</script>"
      ]
     },
     "metadata": {},
     "output_type": "display_data"
    }
   ],
   "source": [
    "import py3Dmol\n",
    "view = py3Dmol.view()\n",
    "view.addModel(Chem.MolToMolBlock(mol),'sdf')\n",
    "view.setStyle({'stick':{}})\n",
    "view.zoomTo()\n",
    "view.show()"
   ]
  },
  {
   "cell_type": "markdown",
   "id": "bfaa6063",
   "metadata": {},
   "source": [
    "## Final Thoughts\n",
    "\n",
    "This was a really fun experiment for me to do. While finding the molecule that matches Shohei Ohtani has no real meaning, it shows off fingerprints and similarity scoring in a fun way. It was also a great way to link two of my favorite things, chemistry and baseball, in a way that I had never really thought of prior to `diamondfp`."
   ]
  }
 ],
 "metadata": {
  "kernelspec": {
   "display_name": "diamondfp",
   "language": "python",
   "name": "python3"
  },
  "language_info": {
   "codemirror_mode": {
    "name": "ipython",
    "version": 3
   },
   "file_extension": ".py",
   "mimetype": "text/x-python",
   "name": "python",
   "nbconvert_exporter": "python",
   "pygments_lexer": "ipython3",
   "version": "3.13.0"
  }
 },
 "nbformat": 4,
 "nbformat_minor": 5
}
