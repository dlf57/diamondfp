{
 "cells": [
  {
   "cell_type": "markdown",
   "id": "19daa7c9",
   "metadata": {},
   "source": [
    "# Using with `pybaseball`\n",
    "\n",
    "[`pybaseball`](https://github.com/jldbc/pybaseball) is a very useful baseball data library that scraps Baseball Reference, Baseball Savant, and FanGraphs. The library can be used to retrieve statcast data, pitching stats, batting stats, division standings/team records, awards data, and more. This notebook will show you how easy it is to integrate with `diamondfp` fingerprints with the library. "
   ]
  },
  {
   "cell_type": "code",
   "execution_count": 1,
   "id": "f3b1942c",
   "metadata": {},
   "outputs": [],
   "source": [
    "from pybaseball import batting_stats\n",
    "from diamondfp.fingerprints import binaryfp\n",
    "from diamondfp.utils.features import generate_quantiles\n",
    "from diamondfp.scoring import tanimoto"
   ]
  },
  {
   "cell_type": "markdown",
   "id": "72f50935",
   "metadata": {},
   "source": [
    "## Calling `pybaseball`\n",
    "\n",
    "For here, we will just be looking at batting stats but this can be used for pitching and fielding stats as well. We will also be focusing on just the current 2025 season, but this could be used to calculate similartiy scores between players of multiple season (e.g. compare the last 5 years for Aaron Judge and see if there are any outlier seasons)."
   ]
  },
  {
   "cell_type": "code",
   "execution_count": 2,
   "id": "875f5e6d",
   "metadata": {},
   "outputs": [],
   "source": [
    "df = batting_stats(2025)"
   ]
  },
  {
   "cell_type": "markdown",
   "id": "c60f2690",
   "metadata": {},
   "source": [
    "## Generating Feature Quantiles\n",
    "\n",
    "`pybaseball` scraping from Baseball Savant gives us access to more advanced stats like wOBA, Barrel%, Exit Velocity, and Launch Angle that more historical records do not have or have as easily available (does have to be 2015 season to present for certain stats)."
   ]
  },
  {
   "cell_type": "code",
   "execution_count": 3,
   "id": "6b49c119",
   "metadata": {},
   "outputs": [],
   "source": [
    "stat_features = {\n",
    "    \"HR\": [0.9, 0.99],\n",
    "    \"K%\": [0.1, 0.25],\n",
    "    \"BB%\": [0.75, 0.99],\n",
    "    \"AVG\": [0.5, 0.75, 0.9, 0.95],\n",
    "    \"OBP\": [0.5, 0.75, 0.9, 0.95],\n",
    "    \"SLG\": [0.5, 0.75, 0.9, 0.95],\n",
    "    \"OPS\": [0.5, 0.75, 0.9, 0.95],\n",
    "    \"wOBA\": [0.5, 0.75, 0.9, 0.95],\n",
    "    \"Barrel%\": [0.5, 0.75, 0.9, 0.95],\n",
    "    \"EV\": [0.5, 0.75, 0.9, 0.95], # exit velocity\n",
    "    \"LA\": [0.5, 0.75, 0.9, 0.95], # launch angle\n",
    "}\n",
    "\n",
    "feat_quants = generate_quantiles(df, stat_features)\n",
    "df['Fingerprint'] = df.apply(lambda x: binaryfp(x, feat_quants), axis=1)"
   ]
  },
  {
   "cell_type": "markdown",
   "id": "0c802212",
   "metadata": {},
   "source": [
    "# Comparing Two Players\n",
    "\n",
    "For this example notebook, let's just compare the seasons that Cal Raleigh and Aaron Judge have been having."
   ]
  },
  {
   "cell_type": "code",
   "execution_count": 4,
   "id": "7f8c84bd",
   "metadata": {},
   "outputs": [
    {
     "name": "stdout",
     "output_type": "stream",
     "text": [
      "Tanimoto Similarity: 0.68\n"
     ]
    }
   ],
   "source": [
    "cal_raleigh = df.Fingerprint[df[\"Name\"] == \"Cal Raleigh\"].iloc[0]\n",
    "aaron_judge = df.Fingerprint[df[\"Name\"] == \"Aaron Judge\"].iloc[0]\n",
    "sim_score = tanimoto(cal_raleigh, aaron_judge)\n",
    "print(f\"Tanimoto Similarity: {sim_score:0.2f}\")  "
   ]
  },
  {
   "cell_type": "markdown",
   "id": "ce098811",
   "metadata": {},
   "source": [
    "## Wrap Up\n",
    "\n",
    "There we go! It is pretty easy to incorporate `pybaseball` with `diamondfp` and allows for us to have larger, more sophisticated fingeprints fairly readily. "
   ]
  }
 ],
 "metadata": {
  "kernelspec": {
   "display_name": "diamondfp",
   "language": "python",
   "name": "python3"
  },
  "language_info": {
   "codemirror_mode": {
    "name": "ipython",
    "version": 3
   },
   "file_extension": ".py",
   "mimetype": "text/x-python",
   "name": "python",
   "nbconvert_exporter": "python",
   "pygments_lexer": "ipython3",
   "version": "3.13.5"
  }
 },
 "nbformat": 4,
 "nbformat_minor": 5
}
