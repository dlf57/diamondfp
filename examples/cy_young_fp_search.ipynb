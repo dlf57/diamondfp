{
 "cells": [
  {
   "cell_type": "markdown",
   "id": "6c12187f",
   "metadata": {},
   "source": [
    "# 2025 Cy Young Similarity Search\n",
    "\n",
    "`diamondfp` makes it possible to compare players across different seasons. One way to apply this is by creating a composite fingerprint that represents typical Cy Young candidates. By comparing this composite against every player in the current season, we can identify which players most closely match the Cy Young profile and may have the strongest case for the award.\n",
    "\n",
    "**What we will do**\n",
    "- Select the stats and quantiles that are most relevant to Cy Young decisions\n",
    "- Generate fingerprints for all Cy Young winners from 2015 to 2024\n",
    "- Create a composite fingerprint that represents a typical Cy Young profile\n",
    "- Compare this composite fingerprint to all players from the current season\n",
    "- Rank the results to see which players have the strongest case for Cy Young"
   ]
  },
  {
   "cell_type": "code",
   "execution_count": 1,
   "id": "af2f64ea",
   "metadata": {},
   "outputs": [],
   "source": [
    "import pandas as pd\n",
    "import numpy as np\n",
    "from diamondfp.fingerprints import binnedfp\n",
    "from diamondfp.utils.features import generate_quantiles\n",
    "from diamondfp.scoring import tanimoto"
   ]
  },
  {
   "cell_type": "markdown",
   "id": "61386ab6",
   "metadata": {},
   "source": [
    "### Read in Stats from 2015-2024"
   ]
  },
  {
   "cell_type": "code",
   "execution_count": 2,
   "id": "cf933b0c",
   "metadata": {},
   "outputs": [],
   "source": [
    "df = pd.read_csv(\"../data/pitching_2015-2025.csv\")\n",
    "\n",
    "def make_name(row):\n",
    "    last_name, first_name = row[\"last_name, first_name\"].split(\", \")\n",
    "    return f\"{first_name} {last_name}\"\n",
    "\n",
    "df['name'] = df.apply(lambda x: make_name(x), axis=1)"
   ]
  },
  {
   "cell_type": "markdown",
   "id": "1252e3f9",
   "metadata": {},
   "source": [
    "### Create a DataFrame of Cy Young Candidates During This Time"
   ]
  },
  {
   "cell_type": "code",
   "execution_count": 3,
   "id": "163b5eae",
   "metadata": {},
   "outputs": [
    {
     "data": {
      "text/html": [
       "<div>\n",
       "<style scoped>\n",
       "    .dataframe tbody tr th:only-of-type {\n",
       "        vertical-align: middle;\n",
       "    }\n",
       "\n",
       "    .dataframe tbody tr th {\n",
       "        vertical-align: top;\n",
       "    }\n",
       "\n",
       "    .dataframe thead th {\n",
       "        text-align: right;\n",
       "    }\n",
       "</style>\n",
       "<table border=\"1\" class=\"dataframe\">\n",
       "  <thead>\n",
       "    <tr style=\"text-align: right;\">\n",
       "      <th></th>\n",
       "      <th>Season</th>\n",
       "      <th>AL Cy Young</th>\n",
       "      <th>NL Cy Young</th>\n",
       "    </tr>\n",
       "  </thead>\n",
       "  <tbody>\n",
       "    <tr>\n",
       "      <th>0</th>\n",
       "      <td>2015</td>\n",
       "      <td>Dallas Keuchel</td>\n",
       "      <td>Jake Arrieta</td>\n",
       "    </tr>\n",
       "    <tr>\n",
       "      <th>1</th>\n",
       "      <td>2016</td>\n",
       "      <td>Rick Porcello</td>\n",
       "      <td>Max Scherzer</td>\n",
       "    </tr>\n",
       "    <tr>\n",
       "      <th>2</th>\n",
       "      <td>2017</td>\n",
       "      <td>Corey Kluber</td>\n",
       "      <td>Max Scherzer</td>\n",
       "    </tr>\n",
       "    <tr>\n",
       "      <th>3</th>\n",
       "      <td>2018</td>\n",
       "      <td>Blake Snell</td>\n",
       "      <td>Jacob deGrom</td>\n",
       "    </tr>\n",
       "    <tr>\n",
       "      <th>4</th>\n",
       "      <td>2019</td>\n",
       "      <td>Justin Verlander</td>\n",
       "      <td>Jacob deGrom</td>\n",
       "    </tr>\n",
       "    <tr>\n",
       "      <th>5</th>\n",
       "      <td>2020</td>\n",
       "      <td>Shane Bieber</td>\n",
       "      <td>Trevor Bauer</td>\n",
       "    </tr>\n",
       "    <tr>\n",
       "      <th>6</th>\n",
       "      <td>2021</td>\n",
       "      <td>Robbie Ray</td>\n",
       "      <td>Corbin Burnes</td>\n",
       "    </tr>\n",
       "    <tr>\n",
       "      <th>7</th>\n",
       "      <td>2022</td>\n",
       "      <td>Justin Verlander</td>\n",
       "      <td>Sandy Alcantara</td>\n",
       "    </tr>\n",
       "    <tr>\n",
       "      <th>8</th>\n",
       "      <td>2023</td>\n",
       "      <td>Gerrit Cole</td>\n",
       "      <td>Blake Snell</td>\n",
       "    </tr>\n",
       "    <tr>\n",
       "      <th>9</th>\n",
       "      <td>2024</td>\n",
       "      <td>Tarik Skubal</td>\n",
       "      <td>Chris Sale</td>\n",
       "    </tr>\n",
       "  </tbody>\n",
       "</table>\n",
       "</div>"
      ],
      "text/plain": [
       "   Season       AL Cy Young      NL Cy Young\n",
       "0    2015    Dallas Keuchel     Jake Arrieta\n",
       "1    2016     Rick Porcello     Max Scherzer\n",
       "2    2017      Corey Kluber     Max Scherzer\n",
       "3    2018       Blake Snell     Jacob deGrom\n",
       "4    2019  Justin Verlander     Jacob deGrom\n",
       "5    2020      Shane Bieber     Trevor Bauer\n",
       "6    2021        Robbie Ray    Corbin Burnes\n",
       "7    2022  Justin Verlander  Sandy Alcantara\n",
       "8    2023       Gerrit Cole      Blake Snell\n",
       "9    2024      Tarik Skubal       Chris Sale"
      ]
     },
     "execution_count": 3,
     "metadata": {},
     "output_type": "execute_result"
    }
   ],
   "source": [
    "cyy = pd.DataFrame(\n",
    "    {\n",
    "        \"Season\": [2015, 2016, 2017, 2018, 2019, 2020, 2021, 2022, 2023, 2024],\n",
    "        \"AL Cy Young\": [\"Dallas Keuchel\", \"Rick Porcello\", \"Corey Kluber\", \n",
    "                        \"Blake Snell\", \"Justin Verlander\", \"Shane Bieber\", \n",
    "                        \"Robbie Ray\", \"Justin Verlander\", \"Gerrit Cole\", \n",
    "                        \"Tarik Skubal\"],\n",
    "        \"NL Cy Young\": [\"Jake Arrieta\", \"Max Scherzer\", \"Max Scherzer\", \n",
    "                        \"Jacob deGrom\", \"Jacob deGrom\", \"Trevor Bauer\", \n",
    "                        \"Corbin Burnes\", \"Sandy Alcantara\", \"Blake Snell\", \n",
    "                        \"Chris Sale\"],\n",
    "    }\n",
    ")\n",
    "cyy"
   ]
  },
  {
   "cell_type": "markdown",
   "id": "359ce195",
   "metadata": {},
   "source": [
    "### Generate the Quantile List for Chosen Stats"
   ]
  },
  {
   "cell_type": "code",
   "execution_count": 4,
   "id": "d31b8cbb",
   "metadata": {},
   "outputs": [
    {
     "data": {
      "text/plain": [
       "{'pa': [0.5, 0.75, 0.9, 0.95],\n",
       " 'hit': [0.05, 0.1, 0.25, 0.5],\n",
       " 'strikeout': [0.5, 0.75, 0.9, 0.95],\n",
       " 'walk': [0.5, 0.75, 0.9, 0.95],\n",
       " 'k_percent': [0.05, 0.1, 0.25, 0.5],\n",
       " 'bb_percent': [0.05, 0.1, 0.25, 0.5],\n",
       " 'batting_avg': [0.05, 0.1, 0.25, 0.5],\n",
       " 'p_era': [0.05, 0.1, 0.25, 0.5],\n",
       " 'woba': [0.05, 0.1, 0.25, 0.5],\n",
       " 'barrel_batted_rate': [0.05, 0.1, 0.25, 0.5],\n",
       " 'hard_hit_percent': [0.05, 0.1, 0.25, 0.5],\n",
       " 'avg_best_speed': [0.05, 0.1, 0.25, 0.5],\n",
       " 'avg_hyper_speed': [0.05, 0.1, 0.25, 0.5],\n",
       " 'z_swing_percent': [0.5, 0.75, 0.9, 0.95],\n",
       " 'z_swing_miss_percent': [0.5, 0.75, 0.9, 0.95],\n",
       " 'oz_swing_percent': [0.5, 0.75, 0.9, 0.95],\n",
       " 'oz_swing_miss_percent': [0.5, 0.75, 0.9, 0.95],\n",
       " 'oz_contact_percent': [0.05, 0.1, 0.25, 0.5],\n",
       " 'out_zone_percent': [0.05, 0.1, 0.25, 0.5],\n",
       " 'iz_contact_percent': [0.05, 0.1, 0.25, 0.5],\n",
       " 'in_zone_percent': [0.5, 0.75, 0.9, 0.95],\n",
       " 'whiff_percent': [0.05, 0.1, 0.25, 0.5],\n",
       " 'swing_percent': [0.25, 0.5, 0.75, 0.9],\n",
       " 'groundballs_percent': [0.25, 0.5, 0.75, 0.9],\n",
       " 'flyballs_percent': [0.25, 0.5, 0.75, 0.9],\n",
       " 'linedrives_percent': [0.25, 0.5, 0.75, 0.9],\n",
       " 'popups_percent': [0.25, 0.5, 0.75, 0.9],\n",
       " 'p_formatted_ip': [0.5, 0.75, 0.9, 0.95]}"
      ]
     },
     "execution_count": 4,
     "metadata": {},
     "output_type": "execute_result"
    }
   ],
   "source": [
    "stat_list = list(df.columns)[4:-1]\n",
    "quant_list = [0.05, 0.1, 0.25, 0.5]\n",
    "# loop over stat list with quant list to set stat_features dict\n",
    "stat_features = {stat: quant_list for stat in stat_list}\n",
    "# for stats where we want lowest values we can reverse the quantiles\n",
    "stat_features[\"p_formatted_ip\"] = [0.5, 0.75, 0.9, 0.95]\n",
    "stat_features[\"pa\"] = [0.5, 0.75, 0.9, 0.95]\n",
    "stat_features[\"strikeout\"] = [0.5, 0.75, 0.9, 0.95]\n",
    "stat_features[\"walk\"] = [0.5, 0.75, 0.9, 0.95]\n",
    "stat_features[\"z_swing_percent\"] = [0.5, 0.75, 0.9, 0.95]\n",
    "stat_features[\"z_swing_miss_percent\"] = [0.5, 0.75, 0.9, 0.95]\n",
    "stat_features[\"oz_swing_percent\"] = [0.5, 0.75, 0.9, 0.95]\n",
    "stat_features[\"oz_swing_miss_percent\"] = [0.5, 0.75, 0.9, 0.95]\n",
    "stat_features[\"in_zone_percent\"] = [0.5, 0.75, 0.9, 0.95]\n",
    "stat_features[\"swing_percent\"] = [0.25, 0.5, 0.75, 0.9]\n",
    "stat_features[\"groundballs_percent\"] = [0.25, 0.5, 0.75, 0.9]\n",
    "stat_features[\"flyballs_percent\"] = [0.25, 0.5, 0.75, 0.9]\n",
    "stat_features[\"linedrives_percent\"] = [0.25, 0.5, 0.75, 0.9]\n",
    "stat_features[\"popups_percent\"] = [0.25, 0.5, 0.75, 0.9]\n",
    "stat_features"
   ]
  },
  {
   "cell_type": "markdown",
   "id": "65fe1c07",
   "metadata": {},
   "source": [
    "### Get the Cy Young fingerprints for each Season"
   ]
  },
  {
   "cell_type": "code",
   "execution_count": 5,
   "id": "be7446a7",
   "metadata": {},
   "outputs": [],
   "source": [
    "seasons = [2015, 2016, 2017, 2018, 2019, 2020, 2021, 2022, 2023, 2024]\n",
    "cyyfps = []\n",
    "# Generate fingerprints for each Cy Young for each season\n",
    "for season in seasons:\n",
    "    # Make a temporary dataframe for the iterated season\n",
    "    temp_df = df[df[\"year\"] == season]\n",
    "    temp_cyy = cyy[cyy[\"Season\"] == season]\n",
    "    \n",
    "    # Generate quantiles for iterated season's stats\n",
    "    feat_quants = generate_quantiles(temp_df, stat_features)\n",
    "\n",
    "    # Get fingerprints for AL and NL Cy Youngs\n",
    "    alcyy = temp_df[temp_df[\"name\"] == temp_cyy[\"AL Cy Young\"].squeeze()].squeeze()\n",
    "    cyyfps.append(binnedfp(alcyy, feat_quants))\n",
    "    nlcyy = temp_df[temp_df[\"name\"] == temp_cyy[\"NL Cy Young\"].squeeze()].squeeze()\n",
    "    cyyfps.append(binnedfp(nlcyy, feat_quants))"
   ]
  },
  {
   "cell_type": "markdown",
   "id": "d35de298",
   "metadata": {},
   "source": [
    "### Composite Fingerprint\n",
    "\n",
    "Now that we have the fingerprint of all mvp winners over the last 10 seaons, let's create a composite fingerprint by taking the max value in each feature group."
   ]
  },
  {
   "cell_type": "code",
   "execution_count": 6,
   "id": "e120e17d",
   "metadata": {},
   "outputs": [],
   "source": [
    "# Sum the fingerprints for all MVPs across seasons\n",
    "summed_fp = np.sum(cyyfps, axis=0)\n",
    "\n",
    "# Create a composite fingerprint of zeros\n",
    "composite_fp = np.zeros_like(summed_fp)\n",
    "# Reshape the summed fingerprint to group features in sets of 4 (length of quant_list)\n",
    "feat_groups = summed_fp.reshape(-1, len(quant_list))\n",
    "# Find the index of the max value in each feature group\n",
    "max_idx = feat_groups.argmax(axis=1)\n",
    "# Create an array of row indices for the feature groups\n",
    "rows = np.arange(feat_groups.shape[0])\n",
    "# Set the max value in each feature group to 1\n",
    "composite_fp.reshape(-1, len(quant_list))[rows, max_idx] = 1"
   ]
  },
  {
   "cell_type": "markdown",
   "id": "654b624d",
   "metadata": {},
   "source": [
    "### Create and Analyze 2025 Fingerprints\n",
    "\n",
    "Create the fingerprints for the 2025 hitters and compare them against the composite MVP fingerprint."
   ]
  },
  {
   "cell_type": "code",
   "execution_count": 7,
   "id": "ec187a4d",
   "metadata": {},
   "outputs": [],
   "source": [
    "df_2025 = df[df[\"year\"] == 2025].copy()\n",
    "\n",
    "feat_quants = generate_quantiles(df_2025, stat_features)\n",
    "df_2025[\"Fingerprint\"] = df_2025.apply(lambda x: binnedfp(x, feat_quants), axis=1)\n",
    "\n",
    "fp = np.array(df_2025[\"Fingerprint\"].tolist(), dtype=np.float32)  \n",
    "players = df_2025[\"name\"].to_numpy()\n",
    "n = len(fp)\n",
    "\n",
    "cyy_race = []\n",
    "for i in range(n):\n",
    "    sim = tanimoto(fp[i], composite_fp)\n",
    "    player = players[i]\n",
    "    d = {}\n",
    "    d[\"Player\"] = player\n",
    "    d[\"Similarity\"] = sim\n",
    "    cyy_race.append(d)"
   ]
  },
  {
   "cell_type": "markdown",
   "id": "9c4c3dfb",
   "metadata": {},
   "source": [
    "### Sort the Tanimoto Similarities\n",
    "\n",
    "Let's look at just the top 10 players based on similarity."
   ]
  },
  {
   "cell_type": "code",
   "execution_count": 8,
   "id": "4de2bc5d",
   "metadata": {},
   "outputs": [
    {
     "data": {
      "text/html": [
       "<div>\n",
       "<style scoped>\n",
       "    .dataframe tbody tr th:only-of-type {\n",
       "        vertical-align: middle;\n",
       "    }\n",
       "\n",
       "    .dataframe tbody tr th {\n",
       "        vertical-align: top;\n",
       "    }\n",
       "\n",
       "    .dataframe thead th {\n",
       "        text-align: right;\n",
       "    }\n",
       "</style>\n",
       "<table border=\"1\" class=\"dataframe\">\n",
       "  <thead>\n",
       "    <tr style=\"text-align: right;\">\n",
       "      <th></th>\n",
       "      <th>Player</th>\n",
       "      <th>Similarity</th>\n",
       "    </tr>\n",
       "  </thead>\n",
       "  <tbody>\n",
       "    <tr>\n",
       "      <th>105</th>\n",
       "      <td>Paul Skenes</td>\n",
       "      <td>0.388889</td>\n",
       "    </tr>\n",
       "    <tr>\n",
       "      <th>75</th>\n",
       "      <td>Tarik Skubal</td>\n",
       "      <td>0.352941</td>\n",
       "    </tr>\n",
       "    <tr>\n",
       "      <th>9</th>\n",
       "      <td>Zack Wheeler</td>\n",
       "      <td>0.307692</td>\n",
       "    </tr>\n",
       "    <tr>\n",
       "      <th>85</th>\n",
       "      <td>Garrett Crochet</td>\n",
       "      <td>0.300000</td>\n",
       "    </tr>\n",
       "    <tr>\n",
       "      <th>20</th>\n",
       "      <td>Jacob deGrom</td>\n",
       "      <td>0.261905</td>\n",
       "    </tr>\n",
       "    <tr>\n",
       "      <th>108</th>\n",
       "      <td>Yoshinobu Yamamoto</td>\n",
       "      <td>0.256410</td>\n",
       "    </tr>\n",
       "    <tr>\n",
       "      <th>89</th>\n",
       "      <td>Spencer Schwellenbach</td>\n",
       "      <td>0.256410</td>\n",
       "    </tr>\n",
       "    <tr>\n",
       "      <th>107</th>\n",
       "      <td>Noah Cameron</td>\n",
       "      <td>0.236842</td>\n",
       "    </tr>\n",
       "    <tr>\n",
       "      <th>10</th>\n",
       "      <td>Matthew Boyd</td>\n",
       "      <td>0.232558</td>\n",
       "    </tr>\n",
       "    <tr>\n",
       "      <th>54</th>\n",
       "      <td>Logan Webb</td>\n",
       "      <td>0.219512</td>\n",
       "    </tr>\n",
       "  </tbody>\n",
       "</table>\n",
       "</div>"
      ],
      "text/plain": [
       "                    Player  Similarity\n",
       "105            Paul Skenes    0.388889\n",
       "75            Tarik Skubal    0.352941\n",
       "9             Zack Wheeler    0.307692\n",
       "85         Garrett Crochet    0.300000\n",
       "20            Jacob deGrom    0.261905\n",
       "108     Yoshinobu Yamamoto    0.256410\n",
       "89   Spencer Schwellenbach    0.256410\n",
       "107           Noah Cameron    0.236842\n",
       "10            Matthew Boyd    0.232558\n",
       "54              Logan Webb    0.219512"
      ]
     },
     "execution_count": 8,
     "metadata": {},
     "output_type": "execute_result"
    }
   ],
   "source": [
    "cyy_race = pd.DataFrame(cyy_race)\n",
    "cyy_race = cyy_race.sort_values(by=\"Similarity\", ascending=False)\n",
    "cyy_race.head(10)"
   ]
  },
  {
   "cell_type": "markdown",
   "id": "c8287490",
   "metadata": {},
   "source": [
    "## Results\n",
    "\n",
    "**AL Cy Young Race**\n",
    "| Rank | Player | Similarity |\n",
    "|--|--|--|\n",
    "| 1st | Tarik Kubal  | 0.35 |\n",
    "| 2nd | Garret Crochet | 0.30 |\n",
    "| 3rd | Jacob deGrom | 0.26 |\n",
    "\n",
    "**NL Cy Young Race**\n",
    "| Rank | Player | Similarity |\n",
    "|--|--|--|\n",
    "| 1st | Paul Skenes | 0.39 |\n",
    "| 2nd | Zack Wheeler | 0.31 |\n",
    "| 3rd | Yoshinobu Yamamoto | 0.26 |\n",
    "\n",
    "\n",
    "**The results are in!** Based on fingerprint similarity, Tarik Skubal appears on track for his second Cy Young, while Paul Skenes is in line for his first. I will note that the similarity scores came out fairly low, likely because I included such a large set of pitching statistics. A more streamlined feature set might yield clearer results."
   ]
  }
 ],
 "metadata": {
  "kernelspec": {
   "display_name": "diamondfp",
   "language": "python",
   "name": "python3"
  },
  "language_info": {
   "codemirror_mode": {
    "name": "ipython",
    "version": 3
   },
   "file_extension": ".py",
   "mimetype": "text/x-python",
   "name": "python",
   "nbconvert_exporter": "python",
   "pygments_lexer": "ipython3",
   "version": "3.13.5"
  }
 },
 "nbformat": 4,
 "nbformat_minor": 5
}
