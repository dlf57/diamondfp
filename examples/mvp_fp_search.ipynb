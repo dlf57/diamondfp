{
 "cells": [
  {
   "cell_type": "markdown",
   "id": "6c12187f",
   "metadata": {},
   "source": [
    "# 2025 MVP Similarity Search\n",
    "\n",
    "`diamondfp` makes it possible to compare players across different seasons. One way to apply this is by creating a composite fingerprint that represents typical MVP candidates. By comparing this composite against every player in the current season, we can identify which players most closely match the MVP profile and may have the strongest case for the award.\n",
    "\n",
    "**What we will do**\n",
    "- Select the stats and quantiles that are most relevant to MVP decisions\n",
    "- Generate fingerprints for all MVPs from 2015 to 2024\n",
    "- Create a composite fingerprint that represents a typical MVP profile\n",
    "- Compare this composite fingerprint to all players from the current season\n",
    "- Rank the results to see which players have the strongest case for MVP"
   ]
  },
  {
   "cell_type": "code",
   "execution_count": 1,
   "id": "af2f64ea",
   "metadata": {},
   "outputs": [],
   "source": [
    "import pandas as pd\n",
    "import numpy as np\n",
    "from diamondfp.fingerprints import binnedfp\n",
    "from diamondfp.utils.features import generate_quantiles\n",
    "from diamondfp.scoring import tanimoto"
   ]
  },
  {
   "cell_type": "markdown",
   "id": "61386ab6",
   "metadata": {},
   "source": [
    "### Read in Stats from 2015-2024"
   ]
  },
  {
   "cell_type": "code",
   "execution_count": null,
   "id": "cf933b0c",
   "metadata": {},
   "outputs": [],
   "source": [
    "df = pd.read_csv(\"../data/batting_2015-2025.csv\")\n",
    "\n",
    "def make_name(row):\n",
    "    last_name, first_name = row[\"last_name, first_name\"].split(\", \")\n",
    "    return f\"{first_name} {last_name}\"\n",
    "\n",
    "df['name'] = df.apply(lambda x: make_name(x), axis=1)"
   ]
  },
  {
   "cell_type": "markdown",
   "id": "1252e3f9",
   "metadata": {},
   "source": [
    "### Create a DataFrame of MVP Candidates During This Time"
   ]
  },
  {
   "cell_type": "code",
   "execution_count": 4,
   "id": "163b5eae",
   "metadata": {},
   "outputs": [
    {
     "data": {
      "text/html": [
       "<div>\n",
       "<style scoped>\n",
       "    .dataframe tbody tr th:only-of-type {\n",
       "        vertical-align: middle;\n",
       "    }\n",
       "\n",
       "    .dataframe tbody tr th {\n",
       "        vertical-align: top;\n",
       "    }\n",
       "\n",
       "    .dataframe thead th {\n",
       "        text-align: right;\n",
       "    }\n",
       "</style>\n",
       "<table border=\"1\" class=\"dataframe\">\n",
       "  <thead>\n",
       "    <tr style=\"text-align: right;\">\n",
       "      <th></th>\n",
       "      <th>Season</th>\n",
       "      <th>AL MVP</th>\n",
       "      <th>NL MVP</th>\n",
       "    </tr>\n",
       "  </thead>\n",
       "  <tbody>\n",
       "    <tr>\n",
       "      <th>0</th>\n",
       "      <td>2015</td>\n",
       "      <td>Josh Donaldson</td>\n",
       "      <td>Bryce Harper</td>\n",
       "    </tr>\n",
       "    <tr>\n",
       "      <th>1</th>\n",
       "      <td>2016</td>\n",
       "      <td>Mike Trout</td>\n",
       "      <td>Kris Bryant</td>\n",
       "    </tr>\n",
       "    <tr>\n",
       "      <th>2</th>\n",
       "      <td>2017</td>\n",
       "      <td>Jose Altuve</td>\n",
       "      <td>Giancarlo Stanton</td>\n",
       "    </tr>\n",
       "    <tr>\n",
       "      <th>3</th>\n",
       "      <td>2018</td>\n",
       "      <td>Mookie Betts</td>\n",
       "      <td>Christian Yelich</td>\n",
       "    </tr>\n",
       "    <tr>\n",
       "      <th>4</th>\n",
       "      <td>2019</td>\n",
       "      <td>Mike Trout</td>\n",
       "      <td>Cody Bellinger</td>\n",
       "    </tr>\n",
       "    <tr>\n",
       "      <th>5</th>\n",
       "      <td>2020</td>\n",
       "      <td>José Abreu</td>\n",
       "      <td>Freddie Freeman</td>\n",
       "    </tr>\n",
       "    <tr>\n",
       "      <th>6</th>\n",
       "      <td>2021</td>\n",
       "      <td>Shohei Ohtani</td>\n",
       "      <td>Bryce Harper</td>\n",
       "    </tr>\n",
       "    <tr>\n",
       "      <th>7</th>\n",
       "      <td>2022</td>\n",
       "      <td>Aaron Judge</td>\n",
       "      <td>Paul Goldschmidt</td>\n",
       "    </tr>\n",
       "    <tr>\n",
       "      <th>8</th>\n",
       "      <td>2023</td>\n",
       "      <td>Shohei Ohtani</td>\n",
       "      <td>Ronald Acuña Jr.</td>\n",
       "    </tr>\n",
       "    <tr>\n",
       "      <th>9</th>\n",
       "      <td>2024</td>\n",
       "      <td>Aaron Judge</td>\n",
       "      <td>Shohei Ohtani</td>\n",
       "    </tr>\n",
       "  </tbody>\n",
       "</table>\n",
       "</div>"
      ],
      "text/plain": [
       "   Season          AL MVP             NL MVP\n",
       "0    2015  Josh Donaldson       Bryce Harper\n",
       "1    2016      Mike Trout        Kris Bryant\n",
       "2    2017     Jose Altuve  Giancarlo Stanton\n",
       "3    2018    Mookie Betts   Christian Yelich\n",
       "4    2019      Mike Trout     Cody Bellinger\n",
       "5    2020      José Abreu    Freddie Freeman\n",
       "6    2021   Shohei Ohtani       Bryce Harper\n",
       "7    2022     Aaron Judge   Paul Goldschmidt\n",
       "8    2023   Shohei Ohtani   Ronald Acuña Jr.\n",
       "9    2024     Aaron Judge      Shohei Ohtani"
      ]
     },
     "execution_count": 4,
     "metadata": {},
     "output_type": "execute_result"
    }
   ],
   "source": [
    "mvp = pd.DataFrame(\n",
    "    {\n",
    "        \"Season\": [2015, 2016, 2017, 2018, 2019, 2020, 2021, 2022, 2023, 2024],\n",
    "        \"AL MVP\": [\"Josh Donaldson\", \"Mike Trout\", \"Jose Altuve\", \n",
    "                   \"Mookie Betts\", \"Mike Trout\", \"José Abreu\", \n",
    "                   \"Shohei Ohtani\", \"Aaron Judge\", \"Shohei Ohtani\", \n",
    "                   \"Aaron Judge\"],\n",
    "        \"NL MVP\": [\"Bryce Harper\", \"Kris Bryant\", \"Giancarlo Stanton\", \n",
    "                   \"Christian Yelich\", \"Cody Bellinger\", \"Freddie Freeman\", \n",
    "                   \"Bryce Harper\", \"Paul Goldschmidt\", \"Ronald Acuña Jr.\", \n",
    "                   \"Shohei Ohtani\"]\n",
    "    }\n",
    ")\n",
    "mvp"
   ]
  },
  {
   "cell_type": "markdown",
   "id": "359ce195",
   "metadata": {},
   "source": [
    "### Generate the Quantile List for Chosen Stats"
   ]
  },
  {
   "cell_type": "code",
   "execution_count": 5,
   "id": "d31b8cbb",
   "metadata": {},
   "outputs": [
    {
     "data": {
      "text/plain": [
       "{'hit': [0.5, 0.75, 0.9, 0.95],\n",
       " 'home_run': [0.5, 0.75, 0.9, 0.95],\n",
       " 'k_percent': [0.05, 0.1, 0.25, 0.5],\n",
       " 'bb_percent': [0.5, 0.75, 0.9, 0.95],\n",
       " 'batting_avg': [0.5, 0.75, 0.9, 0.95],\n",
       " 'slg_percent': [0.5, 0.75, 0.9, 0.95],\n",
       " 'on_base_percent': [0.5, 0.75, 0.9, 0.95],\n",
       " 'on_base_plus_slg': [0.5, 0.75, 0.9, 0.95],\n",
       " 'r_total_stolen_base': [0.5, 0.75, 0.9, 0.95],\n",
       " 'woba': [0.5, 0.75, 0.9, 0.95],\n",
       " 'sweet_spot_percent': [0.5, 0.75, 0.9, 0.95],\n",
       " 'barrel_batted_rate': [0.5, 0.75, 0.9, 0.95],\n",
       " 'hard_hit_percent': [0.5, 0.75, 0.9, 0.95],\n",
       " 'avg_best_speed': [0.5, 0.75, 0.9, 0.95],\n",
       " 'avg_hyper_speed': [0.5, 0.75, 0.9, 0.95],\n",
       " 'whiff_percent': [0.05, 0.1, 0.25, 0.5]}"
      ]
     },
     "execution_count": 5,
     "metadata": {},
     "output_type": "execute_result"
    }
   ],
   "source": [
    "stat_list = list(df.columns)[4:-1]\n",
    "quant_list = [0.5, 0.75, 0.9, 0.95]\n",
    "# loop over stat list with quant list to set stat_features dict\n",
    "stat_features = {stat: quant_list for stat in stat_list}\n",
    "# for stats where we want lowest values we can reverse the quantiles\n",
    "stat_features[\"k_percent\"] = [0.05, 0.1, 0.25, 0.5]\n",
    "stat_features[\"whiff_percent\"] = [0.05, 0.1, 0.25, 0.5] \n",
    "stat_features"
   ]
  },
  {
   "cell_type": "markdown",
   "id": "65fe1c07",
   "metadata": {},
   "source": [
    "### Get the MVP fingerprints for each Season"
   ]
  },
  {
   "cell_type": "code",
   "execution_count": 6,
   "id": "be7446a7",
   "metadata": {},
   "outputs": [],
   "source": [
    "seasons = [2015, 2016, 2017, 2018, 2019, 2020, 2021, 2022, 2023, 2024]\n",
    "mvpfps = []\n",
    "# Generate fingerprints for each MVP for each season\n",
    "for season in seasons:\n",
    "    # Make a temporary dataframe for the iterated season\n",
    "    temp_df = df[df[\"year\"] == season]\n",
    "    temp_mvp = mvp[mvp[\"Season\"] == season]\n",
    "    \n",
    "    # Generate quantiles for iterated season's stats\n",
    "    feat_quants = generate_quantiles(temp_df, stat_features)\n",
    "\n",
    "    # Get fingerprints for AL and NL MVPs\n",
    "    almvp = temp_df[temp_df[\"name\"] == temp_mvp[\"AL MVP\"].squeeze()].squeeze()\n",
    "    mvpfps.append(binnedfp(almvp, feat_quants))\n",
    "    nlmvp = temp_df[temp_df[\"name\"] == temp_mvp[\"NL MVP\"].squeeze()].squeeze()\n",
    "    mvpfps.append(binnedfp(nlmvp, feat_quants))"
   ]
  },
  {
   "cell_type": "markdown",
   "id": "d35de298",
   "metadata": {},
   "source": [
    "### Composite Fingerprint\n",
    "\n",
    "Now that we have the fingerprint of all mvp winners over the last 10 seaons, let's create a composite fingerprint by taking the max value in each feature group."
   ]
  },
  {
   "cell_type": "code",
   "execution_count": null,
   "id": "e120e17d",
   "metadata": {},
   "outputs": [],
   "source": [
    "# Sum the fingerprints for all MVPs across seasons\n",
    "summed_fp = np.sum(mvpfps, axis=0)\n",
    "\n",
    "# Create a composite fingerprint of zeros\n",
    "composite_fp = np.zeros_like(summed_fp)\n",
    "# Reshape the summed fingerprint to group features in sets of 4 (length of quant_list)\n",
    "feat_groups = summed_fp.reshape(-1, len(quant_list))\n",
    "# Find the index of the max value in each feature group\n",
    "max_idx = feat_groups.argmax(axis=1)\n",
    "# Create an array of row indices for the feature groups\n",
    "rows = np.arange(feat_groups.shape[0])\n",
    "# Set the max value in each feature group to 1\n",
    "composite_fp.reshape(-1, len(quant_list))[rows, max_idx] = 1"
   ]
  },
  {
   "cell_type": "markdown",
   "id": "654b624d",
   "metadata": {},
   "source": [
    "### Create and Analyze 2025 Fingerprints\n",
    "\n",
    "Create the fingerprints for the 2025 hitters and compare them against the composite MVP fingerprint."
   ]
  },
  {
   "cell_type": "code",
   "execution_count": null,
   "id": "ec187a4d",
   "metadata": {},
   "outputs": [],
   "source": [
    "df_2025 = df[df[\"year\"] == 2025].copy()\n",
    "\n",
    "feat_quants = generate_quantiles(df_2025, stat_features)\n",
    "df_2025[\"Fingerprint\"] = df_2025.apply(lambda x: binnedfp(x, feat_quants), axis=1)\n",
    "\n",
    "fp = np.array(df_2025[\"Fingerprint\"].tolist(), dtype=np.float32)  \n",
    "players = df_2025[\"name\"].to_numpy()\n",
    "n = len(fp)\n",
    "\n",
    "mvp_race = []\n",
    "for i in range(n):\n",
    "    sim = tanimoto(fp[i], composite_fp)\n",
    "    player = players[i]\n",
    "    d = {}\n",
    "    d[\"Player\"] = player\n",
    "    d[\"Similarity\"] = sim\n",
    "    mvp_race.append(d)"
   ]
  },
  {
   "cell_type": "markdown",
   "id": "9c4c3dfb",
   "metadata": {},
   "source": [
    "### Sort the Tanimoto Similarities\n",
    "\n",
    "Let's look at just the top 10 players based on similarity."
   ]
  },
  {
   "cell_type": "code",
   "execution_count": 10,
   "id": "4de2bc5d",
   "metadata": {},
   "outputs": [
    {
     "data": {
      "text/html": [
       "<div>\n",
       "<style scoped>\n",
       "    .dataframe tbody tr th:only-of-type {\n",
       "        vertical-align: middle;\n",
       "    }\n",
       "\n",
       "    .dataframe tbody tr th {\n",
       "        vertical-align: top;\n",
       "    }\n",
       "\n",
       "    .dataframe thead th {\n",
       "        text-align: right;\n",
       "    }\n",
       "</style>\n",
       "<table border=\"1\" class=\"dataframe\">\n",
       "  <thead>\n",
       "    <tr style=\"text-align: right;\">\n",
       "      <th></th>\n",
       "      <th>Player</th>\n",
       "      <th>Similarity</th>\n",
       "    </tr>\n",
       "  </thead>\n",
       "  <tbody>\n",
       "    <tr>\n",
       "      <th>18</th>\n",
       "      <td>Aaron Judge</td>\n",
       "      <td>0.882353</td>\n",
       "    </tr>\n",
       "    <tr>\n",
       "      <th>58</th>\n",
       "      <td>Shohei Ohtani</td>\n",
       "      <td>0.722222</td>\n",
       "    </tr>\n",
       "    <tr>\n",
       "      <th>56</th>\n",
       "      <td>Kyle Schwarber</td>\n",
       "      <td>0.476190</td>\n",
       "    </tr>\n",
       "    <tr>\n",
       "      <th>78</th>\n",
       "      <td>Juan Soto</td>\n",
       "      <td>0.318182</td>\n",
       "    </tr>\n",
       "    <tr>\n",
       "      <th>79</th>\n",
       "      <td>Oneil Cruz</td>\n",
       "      <td>0.315789</td>\n",
       "    </tr>\n",
       "    <tr>\n",
       "      <th>68</th>\n",
       "      <td>Cal Raleigh</td>\n",
       "      <td>0.304348</td>\n",
       "    </tr>\n",
       "    <tr>\n",
       "      <th>91</th>\n",
       "      <td>Kyle Stowers</td>\n",
       "      <td>0.240000</td>\n",
       "    </tr>\n",
       "    <tr>\n",
       "      <th>93</th>\n",
       "      <td>Will Smith</td>\n",
       "      <td>0.208333</td>\n",
       "    </tr>\n",
       "    <tr>\n",
       "      <th>80</th>\n",
       "      <td>Jonathan Aranda</td>\n",
       "      <td>0.200000</td>\n",
       "    </tr>\n",
       "    <tr>\n",
       "      <th>39</th>\n",
       "      <td>Pete Alonso</td>\n",
       "      <td>0.192308</td>\n",
       "    </tr>\n",
       "  </tbody>\n",
       "</table>\n",
       "</div>"
      ],
      "text/plain": [
       "             Player  Similarity\n",
       "18      Aaron Judge    0.882353\n",
       "58    Shohei Ohtani    0.722222\n",
       "56   Kyle Schwarber    0.476190\n",
       "78        Juan Soto    0.318182\n",
       "79       Oneil Cruz    0.315789\n",
       "68      Cal Raleigh    0.304348\n",
       "91     Kyle Stowers    0.240000\n",
       "93       Will Smith    0.208333\n",
       "80  Jonathan Aranda    0.200000\n",
       "39      Pete Alonso    0.192308"
      ]
     },
     "execution_count": 10,
     "metadata": {},
     "output_type": "execute_result"
    }
   ],
   "source": [
    "mvp_race = pd.DataFrame(mvp_race)\n",
    "mvp_race = mvp_race.sort_values(by=\"Similarity\", ascending=False)\n",
    "mvp_race.head(10)"
   ]
  },
  {
   "cell_type": "markdown",
   "id": "c8287490",
   "metadata": {},
   "source": [
    "## Results\n",
    "\n",
    "**AL MVP Race**\n",
    "| Rank | Player | Similarity |\n",
    "|--|--|--|\n",
    "| 1st | Aaron Judge | 0.88 |\n",
    "| 2nd | Cal Raleigh | 0.32 |\n",
    "| 3rd | Jonathan Aranda | 0.20 |\n",
    "\n",
    "**NL MVP Race**\n",
    "| Rank | Player | Similarity |\n",
    "|--|--|--|\n",
    "| 1st | Shohei Ohtani | 0.72 |\n",
    "| 2nd | Kyle Schwarber | 0.48 |\n",
    "| 3rd | Juan Soto | 0.32 |\n",
    "| 3rd | Oneil Cruz | 0.32 |\n",
    "\n",
    "\n",
    "**The results are in!** Based on fingerprint similarity, Aaron Judge is projected to win his 3rd MVP while Shohei Ohtani claims his 4th. However, this exercise does not account for defensive value, which could move Cal Raleigh higher on some ballots. It also does not consider that MVP voting is decided by baseball writers, who do not always choose the most obvious candidate, particularly if a player is having a slightly less extraordinary season compared to a multi-time winner. They may be inclined to reward the unexpected performance over the expected. This also assumes that only hitters are going to be considered for MVP."
   ]
  }
 ],
 "metadata": {
  "kernelspec": {
   "display_name": "diamondfp",
   "language": "python",
   "name": "python3"
  },
  "language_info": {
   "codemirror_mode": {
    "name": "ipython",
    "version": 3
   },
   "file_extension": ".py",
   "mimetype": "text/x-python",
   "name": "python",
   "nbconvert_exporter": "python",
   "pygments_lexer": "ipython3",
   "version": "3.13.5"
  }
 },
 "nbformat": 4,
 "nbformat_minor": 5
}
